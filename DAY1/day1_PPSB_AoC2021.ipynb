{
 "cells": [
  {
   "cell_type": "markdown",
   "metadata": {},
   "source": [
    "Python Problem Solving Bootcamp\n",
    "\n",
    "Day 1. Sonar Deep, Advent of code 2021"
   ]
  },
  {
   "cell_type": "markdown",
   "metadata": {},
   "source": [
    "Problem #1: I aproached this problem as finding the \"rate of change\" of the measurments, them for answering the question `How many measurements are larger than the previous measurement?` I counted the numer of positive values once the diff where computed. "
   ]
  },
  {
   "cell_type": "code",
   "execution_count": 22,
   "metadata": {},
   "outputs": [],
   "source": [
    "import pandas as pd"
   ]
  },
  {
   "cell_type": "code",
   "execution_count": 23,
   "metadata": {},
   "outputs": [],
   "source": [
    "sonardata = pd.read_csv('sonardata.txt', header = None).squeeze()"
   ]
  },
  {
   "cell_type": "code",
   "execution_count": 24,
   "metadata": {},
   "outputs": [],
   "source": [
    "diff = sonardata.pct_change()"
   ]
  },
  {
   "cell_type": "code",
   "execution_count": 38,
   "metadata": {},
   "outputs": [],
   "source": [
    "# counts how many positive numbers are in the series\n",
    "def checks_on_diff(diff):\n",
    "    positive_diff = []\n",
    "    for i in diff:\n",
    "        if i > 0: \n",
    "            positive_diff.append(i)\n",
    "    return positive_diff"
   ]
  },
  {
   "cell_type": "code",
   "execution_count": 40,
   "metadata": {},
   "outputs": [
    {
     "data": {
      "text/plain": [
       "1676"
      ]
     },
     "execution_count": 40,
     "metadata": {},
     "output_type": "execute_result"
    }
   ],
   "source": [
    "len(checks_on_diff(diff))"
   ]
  },
  {
   "cell_type": "markdown",
   "metadata": {},
   "source": [
    "Problem #2. Rolling Sum"
   ]
  },
  {
   "cell_type": "code",
   "execution_count": 33,
   "metadata": {},
   "outputs": [
    {
     "data": {
      "text/plain": [
       "0           NaN\n",
       "1           NaN\n",
       "2         595.0\n",
       "3         627.0\n",
       "4         637.0\n",
       "         ...   \n",
       "1995    26169.0\n",
       "1996    26195.0\n",
       "1997    26225.0\n",
       "1998    26244.0\n",
       "1999    26258.0\n",
       "Name: 0, Length: 2000, dtype: float64"
      ]
     },
     "execution_count": 33,
     "metadata": {},
     "output_type": "execute_result"
    }
   ],
   "source": [
    "sliding_window = sonardata.rolling(3).sum()\n",
    "sliding_window[2:]"
   ]
  },
  {
   "cell_type": "code",
   "execution_count": 45,
   "metadata": {},
   "outputs": [
    {
     "data": {
      "text/plain": [
       "2            NaN\n",
       "3       0.053782\n",
       "4       0.015949\n",
       "5       0.012559\n",
       "6       0.020155\n",
       "          ...   \n",
       "1995    0.000803\n",
       "1996    0.000994\n",
       "1997    0.001145\n",
       "1998    0.000724\n",
       "1999    0.000533\n",
       "Name: 0, Length: 1998, dtype: float64"
      ]
     },
     "execution_count": 45,
     "metadata": {},
     "output_type": "execute_result"
    }
   ],
   "source": [
    "diff_sliding = sliding_window[2:].pct_change()\n",
    "diff_sliding"
   ]
  },
  {
   "cell_type": "code",
   "execution_count": 46,
   "metadata": {},
   "outputs": [
    {
     "data": {
      "text/plain": [
       "1706"
      ]
     },
     "execution_count": 46,
     "metadata": {},
     "output_type": "execute_result"
    }
   ],
   "source": [
    "len(checks_on_diff(diff_sliding))"
   ]
  }
 ],
 "metadata": {
  "kernelspec": {
   "display_name": "Python 3",
   "language": "python",
   "name": "python3"
  },
  "language_info": {
   "codemirror_mode": {
    "name": "ipython",
    "version": 3
   },
   "file_extension": ".py",
   "mimetype": "text/x-python",
   "name": "python",
   "nbconvert_exporter": "python",
   "pygments_lexer": "ipython3",
   "version": "3.10.8"
  },
  "orig_nbformat": 4
 },
 "nbformat": 4,
 "nbformat_minor": 2
}
