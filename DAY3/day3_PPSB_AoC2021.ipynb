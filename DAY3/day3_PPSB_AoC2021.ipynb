{
 "cells": [
  {
   "cell_type": "markdown",
   "metadata": {},
   "source": [
    "Problem #1  \n",
    "gonna take a stats approach for this one since they are asking for the most common values:  ei the mode.   "
   ]
  },
  {
   "cell_type": "code",
   "execution_count": 1,
   "metadata": {},
   "outputs": [],
   "source": [
    "import pandas as pd"
   ]
  },
  {
   "cell_type": "code",
   "execution_count": 2,
   "metadata": {},
   "outputs": [],
   "source": [
    "# Header creation\n",
    "names = [\"bit\"+str(i) for i in range(1,13) ]"
   ]
  },
  {
   "cell_type": "code",
   "execution_count": 309,
   "metadata": {},
   "outputs": [],
   "source": [
    "data = pd.read_fwf(\"inputs.txt\", widths=[1] * 12, names=names)"
   ]
  },
  {
   "cell_type": "code",
   "execution_count": 4,
   "metadata": {},
   "outputs": [],
   "source": [
    "most_common = data.mode()"
   ]
  },
  {
   "cell_type": "code",
   "execution_count": 5,
   "metadata": {},
   "outputs": [],
   "source": [
    "value = [ str(value[0]) for bit_position, value in most_common.items()]\n",
    "gamma_rate = ''.join(value)\n",
    "gamma_rate_dec = int(gamma_rate,2)"
   ]
  },
  {
   "cell_type": "code",
   "execution_count": 6,
   "metadata": {},
   "outputs": [],
   "source": [
    "epsilon_rate = ''.join(['1' if i == '0' else '0' for i in gamma_rate]) \n",
    "epsilon_rate_dec = int(epsilon_rate,2)"
   ]
  },
  {
   "cell_type": "code",
   "execution_count": 7,
   "metadata": {},
   "outputs": [
    {
     "data": {
      "text/plain": [
       "3549854"
      ]
     },
     "execution_count": 7,
     "metadata": {},
     "output_type": "execute_result"
    }
   ],
   "source": [
    "power_consumption = gamma_rate_dec * epsilon_rate_dec\n",
    "power_consumption"
   ]
  },
  {
   "cell_type": "markdown",
   "metadata": {},
   "source": [
    "Problem #2"
   ]
  },
  {
   "cell_type": "markdown",
   "metadata": {},
   "source": [
    "Calculation of `oxygen_generator_rating` "
   ]
  },
  {
   "cell_type": "code",
   "execution_count": null,
   "metadata": {},
   "outputs": [],
   "source": []
  },
  {
   "cell_type": "code",
   "execution_count": 329,
   "metadata": {},
   "outputs": [],
   "source": [
    "# for the most common value\n",
    "def bit_criteria(data,value_type):\n",
    "\n",
    "    if value_type == 'oxygen generator rating':\n",
    "        value_type = [1,0]\n",
    " \n",
    "    if value_type == 'scrubber rating':\n",
    "        value_type = [0,1]\n",
    "\n",
    "    temp_df = data\n",
    "    for bit_position, values in data.items():\n",
    "\n",
    "        mode = temp_df[bit_position].mode()\n",
    "        mode_size = temp_df[bit_position].mode().size\n",
    "\n",
    "        if temp_df.size == 12:\n",
    "            return temp_df\n",
    "\n",
    "        if mode_size == 2:\n",
    "            positions = temp_df[bit_position] == value_type[0]\n",
    "            temp_df = temp_df[positions]\n",
    "\n",
    "        if mode_size == 1 and mode[0] == 1:\n",
    "            positions = temp_df[bit_position] == value_type[0]\n",
    "            temp_df = temp_df[positions]\n",
    "\n",
    "        if mode_size == 1 and mode[0] == 0:\n",
    "            positions = temp_df[bit_position] == value_type[1]\n",
    "            temp_df = temp_df[positions]\n"
   ]
  },
  {
   "cell_type": "code",
   "execution_count": 332,
   "metadata": {},
   "outputs": [
    {
     "data": {
      "text/plain": [
       "985"
      ]
     },
     "execution_count": 332,
     "metadata": {},
     "output_type": "execute_result"
    }
   ],
   "source": [
    "bit_criteria(data,'oxygen generator rating').index[0]"
   ]
  },
  {
   "cell_type": "code",
   "execution_count": 319,
   "metadata": {},
   "outputs": [
    {
     "data": {
      "text/plain": [
       "2783"
      ]
     },
     "execution_count": 319,
     "metadata": {},
     "output_type": "execute_result"
    }
   ],
   "source": [
    "\n",
    "value = [ str(value[985]) for bit_position, value in temp_df.items()]\n",
    "oxi_gen = ''.join(value)\n",
    "oxi_gen_result = int(oxi_gen,2)\n",
    "oxi_gen_result"
   ]
  },
  {
   "cell_type": "markdown",
   "metadata": {},
   "source": []
  },
  {
   "cell_type": "code",
   "execution_count": 279,
   "metadata": {},
   "outputs": [
    {
     "data": {
      "text/plain": [
       "3765399"
      ]
     },
     "execution_count": 279,
     "metadata": {},
     "output_type": "execute_result"
    }
   ],
   "source": [
    "1353 * 2783 "
   ]
  }
 ],
 "metadata": {
  "kernelspec": {
   "display_name": "Python 3",
   "language": "python",
   "name": "python3"
  },
  "language_info": {
   "codemirror_mode": {
    "name": "ipython",
    "version": 3
   },
   "file_extension": ".py",
   "mimetype": "text/x-python",
   "name": "python",
   "nbconvert_exporter": "python",
   "pygments_lexer": "ipython3",
   "version": "3.10.8"
  },
  "orig_nbformat": 4
 },
 "nbformat": 4,
 "nbformat_minor": 2
}
